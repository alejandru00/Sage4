{
 "cells": [
  {
   "cell_type": "code",
   "execution_count": 4,
   "metadata": {},
   "outputs": [
    {
     "data": {
      "text/plain": [
       "6"
      ]
     },
     "execution_count": 4,
     "metadata": {},
     "output_type": "execute_result"
    }
   ],
   "source": [
    "#1: Calcula el primer límite de la lista adjunta.\n",
    "\n",
    "x = var(\"x\")\n",
    "f(x) = ((x^2) + (2*x) - 8) / (x-2)\n",
    "limit(f(x), x = 2)"
   ]
  },
  {
   "cell_type": "code",
   "execution_count": 5,
   "metadata": {},
   "outputs": [
    {
     "data": {
      "text/plain": [
       "-Infinity"
      ]
     },
     "execution_count": 5,
     "metadata": {},
     "output_type": "execute_result"
    }
   ],
   "source": [
    "#2: Calcula el límite lateral indicado en el punto 2 de la lista adjunta.\n",
    "\n",
    "x = var(\"x\")\n",
    "f(x) = sec(x)\n",
    "limit(f(x), x = pi/2, dir = \"+\")"
   ]
  },
  {
   "cell_type": "code",
   "execution_count": 6,
   "metadata": {},
   "outputs": [
    {
     "data": {
      "text/plain": [
       "+Infinity"
      ]
     },
     "execution_count": 6,
     "metadata": {},
     "output_type": "execute_result"
    }
   ],
   "source": [
    "#3: Calcula el límite lateral indicado en el punto 3 de la lista adjunta.\n",
    "\n",
    "x = var(\"x\")\n",
    "f(x) = sec(x)\n",
    "limit(f(x), x = pi/2, dir = \"-\")"
   ]
  },
  {
   "cell_type": "code",
   "execution_count": 10,
   "metadata": {},
   "outputs": [
    {
     "data": {
      "text/plain": [
       "3*x^2*cos(2*x)*e^(3*x) - 2*x^2*e^(3*x)*sin(2*x) + 2*x*cos(2*x)*e^(3*x)"
      ]
     },
     "execution_count": 10,
     "metadata": {},
     "output_type": "execute_result"
    }
   ],
   "source": [
    "#4: Calcula la derivada indicada en punto 4 de la lista adjunta.\n",
    "\n",
    "x = var(\"x\")\n",
    "f(x) = (x^2) * (e^(3*x)) * (cos(2*x))\n",
    "diff(f(x), x)"
   ]
  },
  {
   "cell_type": "code",
   "execution_count": 14,
   "metadata": {},
   "outputs": [
    {
     "data": {
      "text/plain": [
       "2*t/(t - 2) - (t^2 + 1)/(t - 2)^2"
      ]
     },
     "execution_count": 14,
     "metadata": {},
     "output_type": "execute_result"
    }
   ],
   "source": [
    "#5: Calcula la derivada indicada en punto 5 de la lista adjunta.\n",
    "\n",
    "t = var(\"t\")\n",
    "f(t) = (t^2 + 1) / (t - 2)\n",
    "diff(f(t), t)"
   ]
  },
  {
   "cell_type": "code",
   "execution_count": 19,
   "metadata": {},
   "outputs": [
    {
     "data": {
      "text/plain": [
       "-y*sin(y) + cos(y)"
      ]
     },
     "execution_count": 19,
     "metadata": {},
     "output_type": "execute_result"
    }
   ],
   "source": [
    "#6: Calcula la derivada indicada en punto 6 de la lista adjunta.\n",
    "\n",
    "x, y = var(\"x, y\")      \n",
    "f(x) = x * cos(x)\n",
    "diff(f(y), y)"
   ]
  },
  {
   "cell_type": "code",
   "execution_count": 16,
   "metadata": {},
   "outputs": [
    {
     "data": {
      "text/plain": [
       "1/2*log(x^2 + 2*x + 1)"
      ]
     },
     "execution_count": 16,
     "metadata": {},
     "output_type": "execute_result"
    }
   ],
   "source": [
    "#7: Calcula la integral indefinida indicada en punto 7 de la lista adjunta.\n",
    "\n",
    "x = var(x)\n",
    "f(x) = (x + 1) / (x^2 + 2*x + 1)\n",
    "integrate(f(x), x)"
   ]
  },
  {
   "cell_type": "code",
   "execution_count": 18,
   "metadata": {},
   "outputs": [
    {
     "data": {
      "text/plain": [
       "log(1/2*sqrt(2) + 1) - log(-1/2*sqrt(2) + 1)"
      ]
     },
     "execution_count": 18,
     "metadata": {},
     "output_type": "execute_result"
    }
   ],
   "source": [
    "#8: Calcula el valor de la integral definida indicada en punto 8 de la lista adjunta.\n",
    "\n",
    "x = var(\"x\")\n",
    "f(x) = sec(x)\n",
    "integrate(f(x), x, -pi/4, pi/4)"
   ]
  },
  {
   "cell_type": "code",
   "execution_count": 21,
   "metadata": {},
   "outputs": [
    {
     "data": {
      "text/plain": [
       "-1/2*e^(-x^2)"
      ]
     },
     "execution_count": 21,
     "metadata": {},
     "output_type": "execute_result"
    }
   ],
   "source": [
    "#9: Calcula la integral indefinida indicada en punto 9 de la lista adjunta.\n",
    "\n",
    "x = var(\"x\")\n",
    "f(x) = (\"x * e^(-x^2)\")\n",
    "integrate(f(x), x)"
   ]
  }
 ],
 "metadata": {
  "kernelspec": {
   "display_name": "SageMath 9.3",
   "language": "sage",
   "name": "sagemath"
  },
  "language_info": {
   "codemirror_mode": {
    "name": "ipython",
    "version": 3
   },
   "file_extension": ".py",
   "mimetype": "text/x-python",
   "name": "python",
   "nbconvert_exporter": "python",
   "pygments_lexer": "ipython3",
   "version": "3.7.10"
  }
 },
 "nbformat": 4,
 "nbformat_minor": 4
}
